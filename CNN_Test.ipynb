{
  "nbformat": 4,
  "nbformat_minor": 0,
  "metadata": {
    "colab": {
      "name": "Untitled3.ipynb",
      "version": "0.3.2",
      "provenance": []
    },
    "kernelspec": {
      "name": "python3",
      "display_name": "Python 3"
    }
  },
  "cells": [
    {
      "cell_type": "code",
      "metadata": {
        "id": "-SpHYja8P_ND",
        "colab_type": "code",
        "colab": {}
      },
      "source": [
        "import torch\n",
        "import torch.nn as nn\n",
        "import random"
      ],
      "execution_count": 0,
      "outputs": []
    },
    {
      "cell_type": "code",
      "metadata": {
        "id": "m2vz-Y9HQV-t",
        "colab_type": "code",
        "colab": {
          "base_uri": "https://localhost:8080/",
          "height": 153
        },
        "outputId": "27caefa4-64ac-40f8-af69-2495f8723451"
      },
      "source": [
        "score = 0\n",
        "for _ in range(10):\n",
        "  stride = random.randint(1, 2)\n",
        "  padding = random.randint(0, 1)\n",
        "  kernel_size = (random.randint(2, 4), random.randint(2, 4))\n",
        "  image_size = (random.randint(5, 9), random.randint(5, 9))\n",
        "  sample_img = torch.empty(1, 1, image_size[0], image_size[1]).uniform_(0, 1)\n",
        "\n",
        "  conv = nn.Conv2d(1, 1, kernel_size, stride=stride, padding=padding)\n",
        "\n",
        "  solution = conv(sample_img).shape\n",
        "\n",
        "  print('IMAGE SIZE(y, x):',image_size)\n",
        "  print('With KERNEL(y, x)=',kernel_size, ', STRIDE='+str(stride), ', and PADDING='+str(padding))\n",
        "\n",
        "  print('What will be the resulting feature map size?')\n",
        "  rows = input('Y: ')\n",
        "  cols = input('X: ')\n",
        "\n",
        "  if int(rows) == solution[2] and int(cols) == solution[3]:\n",
        "    score += 1\n",
        "    print('Correct!')\n",
        "  else:\n",
        "    print('Sorry, correct answer was...')\n",
        "    print('Y: ', solution[2])\n",
        "    print('X: ', solution[3])\n",
        "\n",
        "print('')\n",
        "print('You scored '+str(score)+'/10 !')"
      ],
      "execution_count": 35,
      "outputs": [
        {
          "output_type": "stream",
          "text": [
            "IMAGE SIZE(y, x): (7, 5)\n",
            "With KERNEL(y, x)= (3, 3) , STRIDE=1 , and PADDING=0\n",
            "What will be the resulting feature map size?\n",
            "Y: 5\n",
            "X: 3\n",
            "Correct!\n",
            "\n",
            "You scored 1/10 !\n"
          ],
          "name": "stdout"
        }
      ]
    }
  ]
}